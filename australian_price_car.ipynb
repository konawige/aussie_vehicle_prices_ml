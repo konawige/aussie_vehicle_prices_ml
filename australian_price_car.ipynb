{
 "cells": [
  {
   "cell_type": "markdown",
   "id": "fe3ee878",
   "metadata": {},
   "source": [
    "## DATA DISCOVERY AND DATA QUALITY"
   ]
  },
  {
   "cell_type": "code",
   "execution_count": null,
   "id": "61c48eee-56ee-4da1-b752-b66f4d20f6c9",
   "metadata": {
    "pycharm": {
     "is_executing": true
    }
   },
   "outputs": [],
   "source": [
    "import pandas as pd\n",
    "\n",
    "cars_initial = pd.read_csv('Australian Vehicle Prices.csv')\n",
    "cars = cars_initial.copy()\n",
    "cars.head()"
   ]
  },
  {
   "cell_type": "code",
   "execution_count": null,
   "id": "619aa814",
   "metadata": {},
   "outputs": [],
   "source": [
    "cars.info()"
   ]
  },
  {
   "cell_type": "markdown",
   "id": "fc19c11d-861e-4be1-b953-0b124423f967",
   "metadata": {},
   "source": [
    "The dataframe contains 16734 entries. 6 columns have missing values, that need to be addressed: Car/Suv, Location, BodyType, Doors, Seats, Price.\n",
    "Also the columns Engine, FuelConsumption, CylindersInEngine, Doors, Seats, Price are of type object. We can cast them to numeric type. Some of the columns will need some transformations "
   ]
  },
  {
   "cell_type": "markdown",
   "id": "153d4472",
   "metadata": {},
   "source": [
    "Drop rows with no price"
   ]
  },
  {
   "cell_type": "code",
   "execution_count": null,
   "id": "5e89b8f9",
   "metadata": {},
   "outputs": [],
   "source": [
    "cars = cars.dropna(subset=['Price'])\n",
    "cars.info()"
   ]
  },
  {
   "cell_type": "markdown",
   "id": "0b38dd78",
   "metadata": {},
   "source": [
    "## Explore each category"
   ]
  },
  {
   "cell_type": "markdown",
   "id": "2f0de679",
   "metadata": {},
   "source": [
    "### Brand"
   ]
  },
  {
   "cell_type": "code",
   "execution_count": null,
   "id": "1d150854",
   "metadata": {},
   "outputs": [],
   "source": [
    "list(cars['Brand'].unique())"
   ]
  },
  {
   "cell_type": "markdown",
   "id": "a3ba3e84",
   "metadata": {},
   "source": [
    "This category has a lot of possible values. To use it, we will create a new category, Luxury, stating if the car sold is considered a luxury car depending on the brand. "
   ]
  },
  {
   "cell_type": "code",
   "execution_count": null,
   "id": "be99a65e",
   "metadata": {},
   "outputs": [],
   "source": [
    "def categorize_brand(brand):\n",
    "    #  Built with chat-gpt help. To be discussed with a domain expert\n",
    "    luxury_brands = ['MG', 'Land', 'Audi', 'BMW', 'Mercedes-Benz', 'Lexus', 'Jaguar', 'Volvo', 'Land Rover', 'Porsche', 'Maserati', 'Alfa Romeo', \n",
    "                     'Aston Martin', 'Aston', 'Bentley', 'Ferrari', 'Lamborghini', 'Lotus', 'McLaren', 'Rolls-Royce', 'Holden','Tesla','Genesis',\n",
    "                     'Saab', 'Rover','Hummer','Infiniti','Lotus','Polestar','Packard']\n",
    "    if brand in luxury_brands:\n",
    "           return 1\n",
    "    else:\n",
    "        return 0\n",
    "cars['Luxury'] = cars['Brand'].apply(categorize_brand)\n",
    "cars.head()"
   ]
  },
  {
   "cell_type": "markdown",
   "id": "a364fe72",
   "metadata": {},
   "source": [
    "Note: we will ignore the model in our analysis. If we have enough data for a sepecific brand, it will be worth taking the model in consideration, when doing the analysis for an individual brand."
   ]
  },
  {
   "cell_type": "markdown",
   "id": "5803982f",
   "metadata": {},
   "source": [
    "### Transmission"
   ]
  },
  {
   "cell_type": "code",
   "execution_count": null,
   "id": "cb66ec3d",
   "metadata": {},
   "outputs": [],
   "source": [
    "cars['Transmission'].value_counts()"
   ]
  },
  {
   "cell_type": "markdown",
   "id": "72eeb32b",
   "metadata": {},
   "source": [
    "Let's analyse the entries where transmission = '-'"
   ]
  },
  {
   "cell_type": "code",
   "execution_count": null,
   "id": "74c491a4",
   "metadata": {},
   "outputs": [],
   "source": [
    "cars[cars['Transmission'] == '-']"
   ]
  },
  {
   "cell_type": "markdown",
   "id": "a6cb1a33",
   "metadata": {},
   "source": [
    "Those cars also have missing values in other columns. To simplify the process, we will drop those rows."
   ]
  },
  {
   "cell_type": "code",
   "execution_count": null,
   "id": "e40b09a2",
   "metadata": {},
   "outputs": [],
   "source": [
    "cars = cars[cars['Transmission'] != '-']\n",
    "cars['Transmission'].value_counts()"
   ]
  },
  {
   "cell_type": "markdown",
   "id": "ff16fd8b",
   "metadata": {},
   "source": [
    "### Engine"
   ]
  },
  {
   "cell_type": "code",
   "execution_count": null,
   "id": "9000fe29",
   "metadata": {},
   "outputs": [],
   "source": [
    "cars['Engine'].value_counts()"
   ]
  },
  {
   "cell_type": "markdown",
   "id": "d9be56dc",
   "metadata": {},
   "source": [
    "The column seems to follow a defined pattern, with some exceptions. Let's find the rows that do not match the pattern."
   ]
  },
  {
   "cell_type": "code",
   "execution_count": null,
   "id": "219c6d86",
   "metadata": {},
   "outputs": [],
   "source": [
    "not_matched_cons_cars = cars[cars['Engine'].str.match('\\d+ cyl, \\d[.]*\\d* L')==False]\n",
    "not_matched_cons_cars['Engine'].value_counts()"
   ]
  },
  {
   "cell_type": "code",
   "execution_count": null,
   "id": "f03bdd15",
   "metadata": {},
   "outputs": [],
   "source": [
    "# for simplicity, we will drop the rows with Engine = '4 cyl'\n",
    "cars = cars[cars['Engine'] != '4 cyl']\n",
    "cars['Engine'].value_counts()"
   ]
  },
  {
   "cell_type": "code",
   "execution_count": null,
   "id": "09f2c259",
   "metadata": {},
   "outputs": [],
   "source": [
    "not_matched_cons_cars = cars[cars['Engine'].str.match('\\d+ cyl, \\d[.]*\\d* L')==False]\n",
    "not_matched_cons_cars['Engine'].value_counts()"
   ]
  },
  {
   "cell_type": "markdown",
   "id": "018b72d3",
   "metadata": {},
   "source": [
    "Let's first analyze the '0 L' value"
   ]
  },
  {
   "cell_type": "code",
   "execution_count": null,
   "id": "854c6fc9",
   "metadata": {},
   "outputs": [],
   "source": [
    "cars.query('Engine == \"0 L\"')"
   ]
  },
  {
   "cell_type": "markdown",
   "id": "52b07af5",
   "metadata": {},
   "source": [
    "It seems to correspond to electric cars. Let's confirm that, by filtering on cars with electric fueltype "
   ]
  },
  {
   "cell_type": "code",
   "execution_count": null,
   "id": "445586e7",
   "metadata": {},
   "outputs": [],
   "source": [
    "cars.query('Engine == \"0 L\" and FuelType != \"Electric\"')"
   ]
  },
  {
   "cell_type": "markdown",
   "id": "60aba7a5",
   "metadata": {},
   "source": [
    "The only row obtained is a Nissan Leaf which is indeed electric. For convenience, we will make the correction there, by filling fueltype with the appropriate value:"
   ]
  },
  {
   "cell_type": "code",
   "execution_count": null,
   "id": "2003a424",
   "metadata": {
    "pycharm": {
     "is_executing": true
    }
   },
   "outputs": [],
   "source": [
    "cars.loc[13378, 'FuelType'] = 'Electric'\n",
    "cars.query('Engine == \"0 L\" and FuelType != \"Electric\"')"
   ]
  },
  {
   "cell_type": "markdown",
   "id": "be7e9142",
   "metadata": {},
   "source": [
    "Let's analyze now the '-' value"
   ]
  },
  {
   "cell_type": "code",
   "execution_count": null,
   "id": "9bcf68b4",
   "metadata": {},
   "outputs": [],
   "source": [
    "cars.query('Engine == \"-\"')"
   ]
  },
  {
   "cell_type": "markdown",
   "id": "61ef5a52",
   "metadata": {},
   "source": [
    "For those cars, Engine, Doors, Seats, FuelConsumption are missing. We will contact the DE team about that :). For now, we will drop the rows."
   ]
  },
  {
   "cell_type": "code",
   "execution_count": null,
   "id": "aa106b28",
   "metadata": {},
   "outputs": [],
   "source": [
    "cars = cars[cars['Engine'] != '-']\n",
    "cars['Engine'].value_counts()"
   ]
  },
  {
   "cell_type": "markdown",
   "id": "3ae849fd",
   "metadata": {},
   "source": [
    "For the remaining columns we can extract the motor capacity"
   ]
  },
  {
   "cell_type": "code",
   "execution_count": null,
   "id": "e3cfd198",
   "metadata": {},
   "outputs": [],
   "source": [
    "cars['EngineMotorL'] = cars['Engine'].str.extract('(\\d+(\\.\\d+)?)\\s*L')[0]\n",
    "# validate the extraction\n",
    "cars['EngineMotorL'].isna().sum()"
   ]
  },
  {
   "cell_type": "markdown",
   "id": "f83182d0",
   "metadata": {},
   "source": [
    "We will get rid of Engine column and use EngineMotorL instead."
   ]
  },
  {
   "cell_type": "markdown",
   "id": "0caee27b",
   "metadata": {},
   "source": [
    "### DriveType"
   ]
  },
  {
   "cell_type": "code",
   "execution_count": null,
   "id": "bdc1a85d",
   "metadata": {},
   "outputs": [],
   "source": [
    "cars['DriveType'].value_counts()"
   ]
  },
  {
   "cell_type": "markdown",
   "id": "16382e16",
   "metadata": {},
   "source": [
    "5 rows are marked as \"Other\". We will drop those rows"
   ]
  },
  {
   "cell_type": "code",
   "execution_count": null,
   "id": "c865b4a0",
   "metadata": {},
   "outputs": [],
   "source": [
    "\n",
    "cars = cars[cars['DriveType'] != 'Other']\n",
    "cars['DriveType'].value_counts()"
   ]
  },
  {
   "cell_type": "markdown",
   "id": "85484e29",
   "metadata": {},
   "source": [
    "### Fueltype"
   ]
  },
  {
   "cell_type": "code",
   "execution_count": null,
   "id": "11b06420",
   "metadata": {},
   "outputs": [],
   "source": [
    "cars['FuelType'].value_counts()"
   ]
  },
  {
   "cell_type": "markdown",
   "id": "93f3bc46",
   "metadata": {},
   "source": [
    "Fueltype value '-' is only found with non electric vehicles. \n",
    "Fueltype value 'Other' is also found with a non electric vehicle."
   ]
  },
  {
   "cell_type": "code",
   "execution_count": null,
   "id": "fef85b32-4189-408a-a7e5-ebff2516918b",
   "metadata": {},
   "outputs": [],
   "source": [
    "cars.query(\"FuelType == '-' and EngineMotorL == '0'\")\n"
   ]
  },
  {
   "cell_type": "code",
   "execution_count": null,
   "id": "e9a2a76a",
   "metadata": {},
   "outputs": [],
   "source": [
    "cars.query(\"FuelType == 'Other'\")"
   ]
  },
  {
   "cell_type": "markdown",
   "id": "a93f3040",
   "metadata": {},
   "source": [
    "Assumption:\n",
    "We will derive a new column from FuelType to categorize the fuel type. Hybrid and Electric will have the value 1, and all other values are mapped to 0."
   ]
  },
  {
   "cell_type": "code",
   "execution_count": null,
   "id": "359e0aad",
   "metadata": {},
   "outputs": [],
   "source": [
    "def categorize_fuel(fuel_type):\n",
    "    \n",
    "    electric_cat = ['Hybrid', 'Electric']\n",
    "    if fuel_type in electric_cat:\n",
    "        return 1\n",
    "    else:\n",
    "        return 0\n",
    "cars['MotorType'] = cars['FuelType'].apply(categorize_fuel)\n",
    "cars.head()"
   ]
  },
  {
   "cell_type": "markdown",
   "id": "f32d41ff",
   "metadata": {},
   "source": [
    "FuelType out, MotorType in."
   ]
  },
  {
   "cell_type": "code",
   "execution_count": null,
   "id": "56ca5ebf",
   "metadata": {},
   "outputs": [],
   "source": [
    "cars['MotorType'].value_counts()"
   ]
  },
  {
   "cell_type": "markdown",
   "id": "918db9e1",
   "metadata": {},
   "source": [
    "### CylindersinEngine"
   ]
  },
  {
   "cell_type": "code",
   "execution_count": null,
   "id": "e35d00a0",
   "metadata": {},
   "outputs": [],
   "source": [
    "cars['CylindersinEngine'].value_counts()"
   ]
  },
  {
   "cell_type": "markdown",
   "id": "0d3f7687",
   "metadata": {},
   "source": [
    "A small transformation is applied, to extract the numbers at the beginning"
   ]
  },
  {
   "cell_type": "code",
   "execution_count": null,
   "id": "d57ad693",
   "metadata": {},
   "outputs": [],
   "source": [
    "cars['CylindersinEngine'] = cars['CylindersinEngine'].str.extract('(\\d+)')[0]\n",
    "cars['CylindersinEngine'].value_counts()"
   ]
  },
  {
   "cell_type": "markdown",
   "id": "7d950632",
   "metadata": {},
   "source": [
    "### BodyType"
   ]
  },
  {
   "cell_type": "code",
   "execution_count": null,
   "id": "cd3064f4",
   "metadata": {},
   "outputs": [],
   "source": [
    "cars['BodyType'].value_counts()"
   ]
  },
  {
   "cell_type": "markdown",
   "id": "d7a2c956",
   "metadata": {},
   "source": [
    "While some make sense, we also have a Commercial category, people mover category, and other. We will drop this category. Depending on the model result, we might reconsider this decision."
   ]
  },
  {
   "cell_type": "markdown",
   "id": "f67d3201",
   "metadata": {},
   "source": [
    "### Fuel consumption\n",
    "Extract and keep the fuel consumption"
   ]
  },
  {
   "cell_type": "code",
   "execution_count": null,
   "id": "b0409f57",
   "metadata": {},
   "outputs": [],
   "source": [
    "cars[\"FuelConsumption\"].value_counts()"
   ]
  },
  {
   "cell_type": "code",
   "execution_count": null,
   "id": "11c0cf28",
   "metadata": {},
   "outputs": [],
   "source": [
    "not_matched_cons_cars = cars[cars['FuelConsumption'].str.match('\\d+[.]*\\d* L / 100 km')==False]\n",
    "not_matched_cons_cars"
   ]
  },
  {
   "cell_type": "markdown",
   "id": "73a18895",
   "metadata": {},
   "source": [
    "Extract the fuel consumption data in a new column."
   ]
  },
  {
   "cell_type": "code",
   "execution_count": null,
   "id": "336d4ade",
   "metadata": {},
   "outputs": [],
   "source": [
    "cars['FuelConsumptionValue'] = cars['FuelConsumption'].str.extract('(\\d+(\\.\\d+)?)')[0]\n",
    "cars['FuelConsumptionValue'].value_counts()"
   ]
  },
  {
   "cell_type": "code",
   "execution_count": null,
   "id": "3b4dafec",
   "metadata": {},
   "outputs": [],
   "source": [
    "cars[\"FuelConsumptionValue\"].isna().sum()"
   ]
  },
  {
   "cell_type": "code",
   "execution_count": null,
   "id": "008188fa",
   "metadata": {},
   "outputs": [],
   "source": [
    "# drop rows with FuelConsumptionValue = NaN\n",
    "cars = cars.dropna(subset=['FuelConsumptionValue'])"
   ]
  },
  {
   "cell_type": "code",
   "execution_count": null,
   "id": "fc7a4b2b",
   "metadata": {},
   "outputs": [],
   "source": [
    "# validate there is no missing data in the new column\n",
    "cars[\"FuelConsumptionValue\"].isna().sum()"
   ]
  },
  {
   "cell_type": "markdown",
   "id": "f8ea2e95",
   "metadata": {},
   "source": [
    "### Kilometres"
   ]
  },
  {
   "cell_type": "code",
   "execution_count": null,
   "id": "d8a9e463",
   "metadata": {},
   "outputs": [],
   "source": [
    "cars['Kilometres'].value_counts()"
   ]
  },
  {
   "cell_type": "markdown",
   "id": "a47bf74f",
   "metadata": {},
   "source": [
    "2 values are not correct. Check the cars associated with those values."
   ]
  },
  {
   "cell_type": "code",
   "execution_count": null,
   "id": "322deb85",
   "metadata": {},
   "outputs": [],
   "source": [
    "# 1\n",
    "cars[cars['Kilometres'] == '- / -']"
   ]
  },
  {
   "cell_type": "markdown",
   "id": "8df52c7c",
   "metadata": {},
   "source": [
    "A small analysis shows that those cars correspond to new cars, year 2023. "
   ]
  },
  {
   "cell_type": "code",
   "execution_count": null,
   "id": "977ee2f2",
   "metadata": {},
   "outputs": [],
   "source": [
    "# validate that the rows with Kilometres = '- / -' have year = 2023\n",
    "cars.query('Kilometres == \"- / -\"')['Year'].value_counts()"
   ]
  },
  {
   "cell_type": "markdown",
   "id": "9d60820f",
   "metadata": {},
   "source": [
    "We will then replace the Kilometres = '- / -' with 0"
   ]
  },
  {
   "cell_type": "code",
   "execution_count": null,
   "id": "aebfb7ea",
   "metadata": {},
   "outputs": [],
   "source": [
    "cars.loc[cars['Kilometres'] == '- / -', 'Kilometres'] = 0"
   ]
  },
  {
   "cell_type": "code",
   "execution_count": null,
   "id": "d41e7116",
   "metadata": {},
   "outputs": [],
   "source": [
    "# 2\n",
    "cars[cars['Kilometres'] == '-']"
   ]
  },
  {
   "cell_type": "code",
   "execution_count": null,
   "id": "eb8c4c00",
   "metadata": {},
   "outputs": [],
   "source": [
    "# validate that the rows with Kilometres = '-' have usedornew = 'New'\n",
    "cars.query('Kilometres == \"-\"')['Year'].value_counts()"
   ]
  },
  {
   "cell_type": "markdown",
   "id": "16a945a5",
   "metadata": {},
   "source": [
    "We do not have a default value to include in this case. We will remove those entries from the dataset."
   ]
  },
  {
   "cell_type": "code",
   "execution_count": null,
   "id": "f920217e",
   "metadata": {},
   "outputs": [],
   "source": [
    "# drop those rows where kilometre = '-'\n",
    "cars = cars[cars['Kilometres'] != '-']"
   ]
  },
  {
   "cell_type": "markdown",
   "id": "8447fe33",
   "metadata": {},
   "source": [
    "We will not consider the color and the location for the analysis"
   ]
  },
  {
   "cell_type": "markdown",
   "id": "26aa35bb",
   "metadata": {},
   "source": [
    "### Doors"
   ]
  },
  {
   "cell_type": "code",
   "execution_count": null,
   "id": "9b4bd562",
   "metadata": {},
   "outputs": [],
   "source": [
    "cars['Doors'].value_counts()"
   ]
  },
  {
   "cell_type": "code",
   "execution_count": null,
   "id": "a112a232",
   "metadata": {},
   "outputs": [],
   "source": [
    "cars['Doors'].isna().sum()"
   ]
  },
  {
   "cell_type": "markdown",
   "id": "e228bca5",
   "metadata": {},
   "source": [
    "Extract the doors value at the beginning"
   ]
  },
  {
   "cell_type": "code",
   "execution_count": null,
   "id": "e9d0a2e6",
   "metadata": {},
   "outputs": [],
   "source": [
    "cars['Doors'] = cars['Doors'].str.extract('(\\d+)')[0]\n",
    "cars['Doors'].value_counts()"
   ]
  },
  {
   "cell_type": "markdown",
   "id": "d01e10a1",
   "metadata": {},
   "source": [
    "### Seats"
   ]
  },
  {
   "cell_type": "code",
   "execution_count": null,
   "id": "7bb8a05e",
   "metadata": {},
   "outputs": [],
   "source": [
    "cars['Seats'].value_counts()"
   ]
  },
  {
   "cell_type": "code",
   "execution_count": null,
   "id": "b42782ac",
   "metadata": {},
   "outputs": [],
   "source": [
    "cars['Seats'].isna().sum()"
   ]
  },
  {
   "cell_type": "code",
   "execution_count": null,
   "id": "30d88920",
   "metadata": {},
   "outputs": [],
   "source": [
    "# drop rows with Seats = NaN\n",
    "cars = cars.dropna(subset=['Seats'])\n",
    "cars['Seats'].value_counts()"
   ]
  },
  {
   "cell_type": "markdown",
   "id": "2f4d8f11",
   "metadata": {},
   "source": [
    "Extract the seats value at the beginning"
   ]
  },
  {
   "cell_type": "code",
   "execution_count": null,
   "id": "6a50f560",
   "metadata": {},
   "outputs": [],
   "source": [
    "# extract the number of seats from the Seats column\n",
    "cars['Seats'] = cars['Seats'].str.extract('(\\d+)')[0]\n",
    "cars['Seats'].value_counts()"
   ]
  },
  {
   "cell_type": "code",
   "execution_count": null,
   "id": "1abfaef6",
   "metadata": {},
   "outputs": [],
   "source": [
    "cars['Price'].value_counts()"
   ]
  },
  {
   "cell_type": "markdown",
   "id": "259e0918",
   "metadata": {},
   "source": [
    "We notice a value 'POA'for the price"
   ]
  },
  {
   "cell_type": "code",
   "execution_count": null,
   "id": "01a28de4",
   "metadata": {},
   "outputs": [],
   "source": [
    "cars[cars['Price']=='POA']"
   ]
  },
  {
   "cell_type": "markdown",
   "id": "3035a13b",
   "metadata": {},
   "source": [
    "We drop the rows with price = 'POA'"
   ]
  },
  {
   "cell_type": "code",
   "execution_count": null,
   "id": "d3fcbb9e",
   "metadata": {},
   "outputs": [],
   "source": [
    "cars = cars[cars['Price'] != 'POA']"
   ]
  },
  {
   "cell_type": "code",
   "execution_count": null,
   "id": "3c65dd2e",
   "metadata": {},
   "outputs": [],
   "source": [
    "cars.info()"
   ]
  },
  {
   "cell_type": "markdown",
   "id": "0e9c981f",
   "metadata": {},
   "source": [
    "## DATA PREPARATION\n"
   ]
  },
  {
   "cell_type": "code",
   "execution_count": null,
   "id": "4f55bc3d",
   "metadata": {},
   "outputs": [],
   "source": [
    "cars.columns"
   ]
  },
  {
   "cell_type": "code",
   "execution_count": null,
   "id": "6ac39fbc",
   "metadata": {},
   "outputs": [],
   "source": [
    "columns_to_drop = ['Brand', 'Model', 'Title', 'Car/Suv','Engine','FuelType','FuelConsumption','ColourExtInt','Location','BodyType']\n",
    "cars_analysis = cars.drop(columns=columns_to_drop)\n",
    "cars_analysis.info()"
   ]
  },
  {
   "cell_type": "code",
   "execution_count": null,
   "id": "3afea912",
   "metadata": {},
   "outputs": [],
   "source": [
    "cars_analysis[['Price','Kilometres','CylindersinEngine','Doors','Seats','FuelConsumptionValue','EngineMotorL']] = cars_analysis[['Price','Kilometres','CylindersinEngine','Doors','Seats','FuelConsumptionValue','EngineMotorL']].astype(float)"
   ]
  },
  {
   "cell_type": "code",
   "execution_count": null,
   "id": "36f21b8c",
   "metadata": {},
   "outputs": [],
   "source": [
    "cars_analysis.info()"
   ]
  }
 ],
 "metadata": {
  "kernelspec": {
   "display_name": "ml_hotel_kernel",
   "language": "python",
   "name": "ml_hotel_kernel"
  },
  "language_info": {
   "codemirror_mode": {
    "name": "ipython",
    "version": 3
   },
   "file_extension": ".py",
   "mimetype": "text/x-python",
   "name": "python",
   "nbconvert_exporter": "python",
   "pygments_lexer": "ipython3",
   "version": "3.11.5"
  }
 },
 "nbformat": 4,
 "nbformat_minor": 5
}
